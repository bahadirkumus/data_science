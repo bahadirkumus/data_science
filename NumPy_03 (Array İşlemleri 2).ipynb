{
 "cells": [
  {
   "cell_type": "code",
   "execution_count": 1,
   "id": "a3c4a308",
   "metadata": {},
   "outputs": [],
   "source": [
    "import numpy"
   ]
  },
  {
   "cell_type": "markdown",
   "id": "00cb2e00",
   "metadata": {},
   "source": [
    "## Index İle Eleman İşleme"
   ]
  },
  {
   "cell_type": "code",
   "execution_count": 2,
   "id": "364c40db",
   "metadata": {},
   "outputs": [],
   "source": [
    "a = numpy.random.randint(10, size = 10)"
   ]
  },
  {
   "cell_type": "code",
   "execution_count": 3,
   "id": "d27d151a",
   "metadata": {},
   "outputs": [
    {
     "data": {
      "text/plain": [
       "array([9, 6, 1, 0, 7, 4, 2, 3, 6, 8])"
      ]
     },
     "execution_count": 3,
     "metadata": {},
     "output_type": "execute_result"
    }
   ],
   "source": [
    "a"
   ]
  },
  {
   "cell_type": "code",
   "execution_count": 4,
   "id": "8fec9c49",
   "metadata": {},
   "outputs": [
    {
     "data": {
      "text/plain": [
       "9"
      ]
     },
     "execution_count": 4,
     "metadata": {},
     "output_type": "execute_result"
    }
   ],
   "source": [
    "a[0]"
   ]
  },
  {
   "cell_type": "code",
   "execution_count": 5,
   "id": "55c61333",
   "metadata": {},
   "outputs": [
    {
     "data": {
      "text/plain": [
       "8"
      ]
     },
     "execution_count": 5,
     "metadata": {},
     "output_type": "execute_result"
    }
   ],
   "source": [
    "a[-1]"
   ]
  },
  {
   "cell_type": "code",
   "execution_count": 6,
   "id": "34952d52",
   "metadata": {},
   "outputs": [],
   "source": [
    "a[0] = 3"
   ]
  },
  {
   "cell_type": "code",
   "execution_count": 7,
   "id": "f65aae71",
   "metadata": {},
   "outputs": [
    {
     "data": {
      "text/plain": [
       "array([3, 6, 1, 0, 7, 4, 2, 3, 6, 8])"
      ]
     },
     "execution_count": 7,
     "metadata": {},
     "output_type": "execute_result"
    }
   ],
   "source": [
    "a"
   ]
  },
  {
   "cell_type": "code",
   "execution_count": 8,
   "id": "a2a89322",
   "metadata": {},
   "outputs": [],
   "source": [
    "m = numpy.random.randint(10, size = (3, 5))"
   ]
  },
  {
   "cell_type": "code",
   "execution_count": 9,
   "id": "d743a43b",
   "metadata": {},
   "outputs": [
    {
     "data": {
      "text/plain": [
       "array([[6, 9, 7, 1, 1],\n",
       "       [3, 9, 1, 3, 2],\n",
       "       [1, 0, 3, 6, 6]])"
      ]
     },
     "execution_count": 9,
     "metadata": {},
     "output_type": "execute_result"
    }
   ],
   "source": [
    "m"
   ]
  },
  {
   "cell_type": "code",
   "execution_count": 10,
   "id": "2341d226",
   "metadata": {},
   "outputs": [
    {
     "data": {
      "text/plain": [
       "6"
      ]
     },
     "execution_count": 10,
     "metadata": {},
     "output_type": "execute_result"
    }
   ],
   "source": [
    "m[0, 0]"
   ]
  },
  {
   "cell_type": "code",
   "execution_count": 12,
   "id": "49c308be",
   "metadata": {},
   "outputs": [],
   "source": [
    "m[0, 0] = 8"
   ]
  },
  {
   "cell_type": "code",
   "execution_count": 13,
   "id": "7eee8f86",
   "metadata": {},
   "outputs": [
    {
     "data": {
      "text/plain": [
       "array([[8, 9, 7, 1, 1],\n",
       "       [3, 9, 1, 3, 2],\n",
       "       [1, 0, 3, 6, 6]])"
      ]
     },
     "execution_count": 13,
     "metadata": {},
     "output_type": "execute_result"
    }
   ],
   "source": [
    "m"
   ]
  },
  {
   "cell_type": "code",
   "execution_count": 14,
   "id": "b600a72b",
   "metadata": {},
   "outputs": [],
   "source": [
    "m[1, 1] = 8.7"
   ]
  },
  {
   "cell_type": "code",
   "execution_count": 15,
   "id": "b6f58bcd",
   "metadata": {},
   "outputs": [
    {
     "data": {
      "text/plain": [
       "array([[8, 9, 7, 1, 1],\n",
       "       [3, 8, 1, 3, 2],\n",
       "       [1, 0, 3, 6, 6]])"
      ]
     },
     "execution_count": 15,
     "metadata": {},
     "output_type": "execute_result"
    }
   ],
   "source": [
    "m"
   ]
  },
  {
   "cell_type": "markdown",
   "id": "cf272153",
   "metadata": {},
   "source": [
    "## Slicing ile Elemanlara Erişmek (Array Alt Kümesine Erişmek)"
   ]
  },
  {
   "cell_type": "code",
   "execution_count": 39,
   "id": "c4a541c7",
   "metadata": {},
   "outputs": [],
   "source": [
    "b = numpy.arange(20, 30) #tek boyutlu slice işlemleri"
   ]
  },
  {
   "cell_type": "code",
   "execution_count": 17,
   "id": "7cad8e77",
   "metadata": {},
   "outputs": [
    {
     "data": {
      "text/plain": [
       "array([20, 21, 22, 23, 24, 25, 26, 27, 28, 29])"
      ]
     },
     "execution_count": 17,
     "metadata": {},
     "output_type": "execute_result"
    }
   ],
   "source": [
    "b"
   ]
  },
  {
   "cell_type": "code",
   "execution_count": 18,
   "id": "ba15dfee",
   "metadata": {},
   "outputs": [
    {
     "data": {
      "text/plain": [
       "array([20, 21, 22])"
      ]
     },
     "execution_count": 18,
     "metadata": {},
     "output_type": "execute_result"
    }
   ],
   "source": [
    "b[0:3]"
   ]
  },
  {
   "cell_type": "code",
   "execution_count": 19,
   "id": "a541efe3",
   "metadata": {},
   "outputs": [
    {
     "data": {
      "text/plain": [
       "array([20, 21, 22])"
      ]
     },
     "execution_count": 19,
     "metadata": {},
     "output_type": "execute_result"
    }
   ],
   "source": [
    "b[:3]"
   ]
  },
  {
   "cell_type": "code",
   "execution_count": 20,
   "id": "aa6192bb",
   "metadata": {},
   "outputs": [
    {
     "data": {
      "text/plain": [
       "array([23, 24, 25, 26, 27, 28, 29])"
      ]
     },
     "execution_count": 20,
     "metadata": {},
     "output_type": "execute_result"
    }
   ],
   "source": [
    "b[3:]"
   ]
  },
  {
   "cell_type": "code",
   "execution_count": 21,
   "id": "20b3637f",
   "metadata": {},
   "outputs": [
    {
     "data": {
      "text/plain": [
       "array([21, 23, 25, 27, 29])"
      ]
     },
     "execution_count": 21,
     "metadata": {},
     "output_type": "execute_result"
    }
   ],
   "source": [
    "b[1::2]"
   ]
  },
  {
   "cell_type": "code",
   "execution_count": 35,
   "id": "e1b19f5b",
   "metadata": {},
   "outputs": [
    {
     "data": {
      "text/plain": [
       "array([25, 26, 27])"
      ]
     },
     "execution_count": 35,
     "metadata": {},
     "output_type": "execute_result"
    }
   ],
   "source": [
    "b[-5: -2]"
   ]
  },
  {
   "cell_type": "code",
   "execution_count": 38,
   "id": "36b5f8be",
   "metadata": {},
   "outputs": [
    {
     "data": {
      "text/plain": [
       "array([20, 21, 22, 23, 24, 25, 26, 27, 28])"
      ]
     },
     "execution_count": 38,
     "metadata": {},
     "output_type": "execute_result"
    }
   ],
   "source": [
    "b[:-1]"
   ]
  },
  {
   "cell_type": "code",
   "execution_count": 30,
   "id": "e24862ea",
   "metadata": {},
   "outputs": [
    {
     "data": {
      "text/plain": [
       "array([28])"
      ]
     },
     "execution_count": 30,
     "metadata": {},
     "output_type": "execute_result"
    }
   ],
   "source": [
    "b[-2: -1]"
   ]
  },
  {
   "cell_type": "code",
   "execution_count": 40,
   "id": "a9e19987",
   "metadata": {},
   "outputs": [],
   "source": [
    "m = numpy.random.randint(10, size = (5, 5))"
   ]
  },
  {
   "cell_type": "code",
   "execution_count": 41,
   "id": "313a2093",
   "metadata": {},
   "outputs": [
    {
     "data": {
      "text/plain": [
       "array([[2, 7, 3, 1, 7],\n",
       "       [7, 7, 9, 5, 0],\n",
       "       [7, 1, 5, 5, 6],\n",
       "       [9, 9, 6, 4, 8],\n",
       "       [5, 8, 7, 2, 5]])"
      ]
     },
     "execution_count": 41,
     "metadata": {},
     "output_type": "execute_result"
    }
   ],
   "source": [
    "m"
   ]
  },
  {
   "cell_type": "code",
   "execution_count": 44,
   "id": "8e8c73fc",
   "metadata": {},
   "outputs": [
    {
     "data": {
      "text/plain": [
       "array([2, 7, 7, 9, 5])"
      ]
     },
     "execution_count": 44,
     "metadata": {},
     "output_type": "execute_result"
    }
   ],
   "source": [
    "m[:, 0]"
   ]
  },
  {
   "cell_type": "code",
   "execution_count": 45,
   "id": "1a916dc8",
   "metadata": {},
   "outputs": [
    {
     "data": {
      "text/plain": [
       "array([7, 7, 1, 9, 8])"
      ]
     },
     "execution_count": 45,
     "metadata": {},
     "output_type": "execute_result"
    }
   ],
   "source": [
    "m[:, 1]"
   ]
  },
  {
   "cell_type": "code",
   "execution_count": 46,
   "id": "fab76396",
   "metadata": {},
   "outputs": [
    {
     "data": {
      "text/plain": [
       "array([2, 7, 3, 1, 7])"
      ]
     },
     "execution_count": 46,
     "metadata": {},
     "output_type": "execute_result"
    }
   ],
   "source": [
    "m[0, :]"
   ]
  },
  {
   "cell_type": "code",
   "execution_count": 48,
   "id": "7240b43d",
   "metadata": {},
   "outputs": [
    {
     "data": {
      "text/plain": [
       "array([[2, 7],\n",
       "       [7, 7]])"
      ]
     },
     "execution_count": 48,
     "metadata": {},
     "output_type": "execute_result"
    }
   ],
   "source": [
    "m[0:2, 0:2]"
   ]
  },
  {
   "cell_type": "markdown",
   "id": "0121fe94",
   "metadata": {},
   "source": [
    "## Alt Küme Üzerinde İşlem Yapmak"
   ]
  },
  {
   "cell_type": "code",
   "execution_count": 49,
   "id": "1cd210a8",
   "metadata": {},
   "outputs": [],
   "source": [
    "c = numpy.random.randint(10, size = (5, 5))"
   ]
  },
  {
   "cell_type": "code",
   "execution_count": 50,
   "id": "836a9d4b",
   "metadata": {},
   "outputs": [
    {
     "data": {
      "text/plain": [
       "array([[3, 0, 8, 2, 6],\n",
       "       [5, 5, 9, 9, 8],\n",
       "       [8, 2, 1, 9, 1],\n",
       "       [2, 3, 5, 5, 5],\n",
       "       [5, 5, 1, 7, 8]])"
      ]
     },
     "execution_count": 50,
     "metadata": {},
     "output_type": "execute_result"
    }
   ],
   "source": [
    "c"
   ]
  },
  {
   "cell_type": "code",
   "execution_count": 51,
   "id": "c991a2ae",
   "metadata": {},
   "outputs": [],
   "source": [
    "alt_c = c[0:3, 0:3]"
   ]
  },
  {
   "cell_type": "code",
   "execution_count": 52,
   "id": "7cf76bbc",
   "metadata": {},
   "outputs": [
    {
     "data": {
      "text/plain": [
       "array([[3, 0, 8],\n",
       "       [5, 5, 9],\n",
       "       [8, 2, 1]])"
      ]
     },
     "execution_count": 52,
     "metadata": {},
     "output_type": "execute_result"
    }
   ],
   "source": [
    "alt_c"
   ]
  },
  {
   "cell_type": "code",
   "execution_count": 55,
   "id": "f1aedf5b",
   "metadata": {},
   "outputs": [],
   "source": [
    "alt_c[0,0] = 1"
   ]
  },
  {
   "cell_type": "code",
   "execution_count": 56,
   "id": "6917f65a",
   "metadata": {},
   "outputs": [
    {
     "data": {
      "text/plain": [
       "array([[1, 0, 8],\n",
       "       [5, 5, 9],\n",
       "       [8, 2, 1]])"
      ]
     },
     "execution_count": 56,
     "metadata": {},
     "output_type": "execute_result"
    }
   ],
   "source": [
    "alt_c"
   ]
  },
  {
   "cell_type": "code",
   "execution_count": 57,
   "id": "b8fdbc47",
   "metadata": {},
   "outputs": [
    {
     "data": {
      "text/plain": [
       "array([[1, 0, 8, 2, 6],\n",
       "       [5, 5, 9, 9, 8],\n",
       "       [8, 2, 1, 9, 1],\n",
       "       [2, 3, 5, 5, 5],\n",
       "       [5, 5, 1, 7, 8]])"
      ]
     },
     "execution_count": 57,
     "metadata": {},
     "output_type": "execute_result"
    }
   ],
   "source": [
    "c #ana arrayde de değişiklik meydana geldi"
   ]
  },
  {
   "cell_type": "code",
   "execution_count": 60,
   "id": "9bc81225",
   "metadata": {},
   "outputs": [],
   "source": [
    "alt_c_copy = c[3:5, 3:5].copy()"
   ]
  },
  {
   "cell_type": "code",
   "execution_count": 61,
   "id": "ac1ba21e",
   "metadata": {},
   "outputs": [
    {
     "data": {
      "text/plain": [
       "array([[5, 5],\n",
       "       [7, 8]])"
      ]
     },
     "execution_count": 61,
     "metadata": {},
     "output_type": "execute_result"
    }
   ],
   "source": [
    "alt_c_copy"
   ]
  },
  {
   "cell_type": "code",
   "execution_count": 64,
   "id": "ccc012db",
   "metadata": {},
   "outputs": [],
   "source": [
    "alt_c_copy[0,0] = 1"
   ]
  },
  {
   "cell_type": "code",
   "execution_count": 65,
   "id": "922dc879",
   "metadata": {},
   "outputs": [
    {
     "data": {
      "text/plain": [
       "array([[1, 5],\n",
       "       [7, 8]])"
      ]
     },
     "execution_count": 65,
     "metadata": {},
     "output_type": "execute_result"
    }
   ],
   "source": [
    "alt_c_copy"
   ]
  },
  {
   "cell_type": "code",
   "execution_count": 66,
   "id": "073e38ca",
   "metadata": {},
   "outputs": [
    {
     "data": {
      "text/plain": [
       "array([[1, 0, 8, 2, 6],\n",
       "       [5, 5, 9, 9, 8],\n",
       "       [8, 2, 1, 9, 1],\n",
       "       [2, 3, 5, 5, 5],\n",
       "       [5, 5, 1, 7, 8]])"
      ]
     },
     "execution_count": 66,
     "metadata": {},
     "output_type": "execute_result"
    }
   ],
   "source": [
    "c"
   ]
  },
  {
   "cell_type": "markdown",
   "id": "e56249f7",
   "metadata": {},
   "source": [
    "## Fancy Index ile Elemanlara Erişmek"
   ]
  },
  {
   "cell_type": "code",
   "execution_count": 67,
   "id": "5f9b67cc",
   "metadata": {},
   "outputs": [],
   "source": [
    "v = numpy.arange(0, 31, 3) #tek boyutta"
   ]
  },
  {
   "cell_type": "code",
   "execution_count": 68,
   "id": "54985682",
   "metadata": {},
   "outputs": [
    {
     "data": {
      "text/plain": [
       "array([ 0,  3,  6,  9, 12, 15, 18, 21, 24, 27, 30])"
      ]
     },
     "execution_count": 68,
     "metadata": {},
     "output_type": "execute_result"
    }
   ],
   "source": [
    "v"
   ]
  },
  {
   "cell_type": "code",
   "execution_count": 69,
   "id": "6261df84",
   "metadata": {},
   "outputs": [
    {
     "data": {
      "text/plain": [
       "3"
      ]
     },
     "execution_count": 69,
     "metadata": {},
     "output_type": "execute_result"
    }
   ],
   "source": [
    "v[1]"
   ]
  },
  {
   "cell_type": "code",
   "execution_count": 73,
   "id": "c2cba9eb",
   "metadata": {},
   "outputs": [
    {
     "data": {
      "text/plain": [
       "[3, 9, 15]"
      ]
     },
     "execution_count": 73,
     "metadata": {},
     "output_type": "execute_result"
    }
   ],
   "source": [
    "[v[1], v[3], v[5]]"
   ]
  },
  {
   "cell_type": "code",
   "execution_count": 71,
   "id": "b4afe50c",
   "metadata": {},
   "outputs": [],
   "source": [
    "al_getir = [1, 3, 5]"
   ]
  },
  {
   "cell_type": "code",
   "execution_count": 72,
   "id": "18f5e094",
   "metadata": {},
   "outputs": [
    {
     "data": {
      "text/plain": [
       "array([ 3,  9, 15])"
      ]
     },
     "execution_count": 72,
     "metadata": {},
     "output_type": "execute_result"
    }
   ],
   "source": [
    "v[al_getir]"
   ]
  },
  {
   "cell_type": "code",
   "execution_count": 85,
   "id": "759cb060",
   "metadata": {},
   "outputs": [],
   "source": [
    "mat = numpy.arange(0,9).reshape(3,3) #iki boyutta"
   ]
  },
  {
   "cell_type": "code",
   "execution_count": 75,
   "id": "ed54ffa9",
   "metadata": {},
   "outputs": [
    {
     "data": {
      "text/plain": [
       "array([[0, 1, 2],\n",
       "       [3, 4, 5],\n",
       "       [6, 7, 8]])"
      ]
     },
     "execution_count": 75,
     "metadata": {},
     "output_type": "execute_result"
    }
   ],
   "source": [
    "mat"
   ]
  },
  {
   "cell_type": "code",
   "execution_count": 82,
   "id": "8f5f6e53",
   "metadata": {},
   "outputs": [],
   "source": [
    "satir = numpy.array([0,1])"
   ]
  },
  {
   "cell_type": "code",
   "execution_count": 83,
   "id": "f865f2ad",
   "metadata": {},
   "outputs": [],
   "source": [
    "sutun = numpy.array([1,2])"
   ]
  },
  {
   "cell_type": "code",
   "execution_count": 84,
   "id": "f1c6b91c",
   "metadata": {},
   "outputs": [
    {
     "data": {
      "text/plain": [
       "array([1, 5])"
      ]
     },
     "execution_count": 84,
     "metadata": {},
     "output_type": "execute_result"
    }
   ],
   "source": [
    "mat[satir, sutun]"
   ]
  },
  {
   "cell_type": "code",
   "execution_count": 91,
   "id": "6095ce6a",
   "metadata": {},
   "outputs": [
    {
     "data": {
      "text/plain": [
       "array([[1, 2],\n",
       "       [4, 5],\n",
       "       [7, 8]])"
      ]
     },
     "execution_count": 91,
     "metadata": {},
     "output_type": "execute_result"
    }
   ],
   "source": [
    "mat[0:, [1,2]] #slice ile fancy"
   ]
  },
  {
   "cell_type": "markdown",
   "id": "3574ad43",
   "metadata": {},
   "source": [
    "## Koşullu Eleman İşlemleri"
   ]
  },
  {
   "cell_type": "code",
   "execution_count": 92,
   "id": "3074a84c",
   "metadata": {},
   "outputs": [],
   "source": [
    "array = numpy.array([1, 2, 3, 4, 5])"
   ]
  },
  {
   "cell_type": "code",
   "execution_count": 102,
   "id": "360f95b7",
   "metadata": {},
   "outputs": [
    {
     "data": {
      "text/plain": [
       "array([False, False, False,  True,  True])"
      ]
     },
     "execution_count": 102,
     "metadata": {},
     "output_type": "execute_result"
    }
   ],
   "source": [
    "array > 3"
   ]
  },
  {
   "cell_type": "code",
   "execution_count": 103,
   "id": "b29327f2",
   "metadata": {},
   "outputs": [
    {
     "data": {
      "text/plain": [
       "array([4, 5])"
      ]
     },
     "execution_count": 103,
     "metadata": {},
     "output_type": "execute_result"
    }
   ],
   "source": [
    "array[array > 3]"
   ]
  },
  {
   "cell_type": "markdown",
   "id": "9ebe7fe4",
   "metadata": {},
   "source": [
    "## Matematiksel İşlemler"
   ]
  },
  {
   "cell_type": "code",
   "execution_count": 106,
   "id": "ccc4c447",
   "metadata": {},
   "outputs": [
    {
     "data": {
      "text/plain": [
       "array([0, 1, 2, 3, 4])"
      ]
     },
     "execution_count": 106,
     "metadata": {},
     "output_type": "execute_result"
    }
   ],
   "source": [
    "array - 1"
   ]
  },
  {
   "cell_type": "code",
   "execution_count": 107,
   "id": "3e8d1540",
   "metadata": {},
   "outputs": [
    {
     "data": {
      "text/plain": [
       "array([ 2,  4,  6,  8, 10])"
      ]
     },
     "execution_count": 107,
     "metadata": {},
     "output_type": "execute_result"
    }
   ],
   "source": [
    "array * 2"
   ]
  },
  {
   "cell_type": "code",
   "execution_count": 108,
   "id": "f52db4f9",
   "metadata": {},
   "outputs": [
    {
     "data": {
      "text/plain": [
       "array([0.2, 0.4, 0.6, 0.8, 1. ])"
      ]
     },
     "execution_count": 108,
     "metadata": {},
     "output_type": "execute_result"
    }
   ],
   "source": [
    "array / 5"
   ]
  },
  {
   "cell_type": "code",
   "execution_count": 109,
   "id": "d0d7f323",
   "metadata": {},
   "outputs": [],
   "source": [
    "#ufunc"
   ]
  },
  {
   "cell_type": "code",
   "execution_count": 110,
   "id": "f4570029",
   "metadata": {},
   "outputs": [
    {
     "data": {
      "text/plain": [
       "array([0, 1, 2, 3, 4])"
      ]
     },
     "execution_count": 110,
     "metadata": {},
     "output_type": "execute_result"
    }
   ],
   "source": [
    "numpy.subtract(array, 1)"
   ]
  },
  {
   "cell_type": "code",
   "execution_count": 111,
   "id": "a4e0b6c3",
   "metadata": {},
   "outputs": [
    {
     "data": {
      "text/plain": [
       "array([2, 3, 4, 5, 6])"
      ]
     },
     "execution_count": 111,
     "metadata": {},
     "output_type": "execute_result"
    }
   ],
   "source": [
    "numpy.add(array, 1)"
   ]
  },
  {
   "cell_type": "code",
   "execution_count": 112,
   "id": "24be1ed9",
   "metadata": {},
   "outputs": [
    {
     "data": {
      "text/plain": [
       "array([ 2,  4,  6,  8, 10])"
      ]
     },
     "execution_count": 112,
     "metadata": {},
     "output_type": "execute_result"
    }
   ],
   "source": [
    "numpy.multiply(array, 2)"
   ]
  },
  {
   "cell_type": "code",
   "execution_count": 113,
   "id": "911593f7",
   "metadata": {},
   "outputs": [
    {
     "data": {
      "text/plain": [
       "array([0.5, 1. , 1.5, 2. , 2.5])"
      ]
     },
     "execution_count": 113,
     "metadata": {},
     "output_type": "execute_result"
    }
   ],
   "source": [
    "numpy.divide(array, 2)"
   ]
  },
  {
   "cell_type": "code",
   "execution_count": 114,
   "id": "3fe47f6f",
   "metadata": {},
   "outputs": [
    {
     "data": {
      "text/plain": [
       "array([ 1,  4,  9, 16, 25])"
      ]
     },
     "execution_count": 114,
     "metadata": {},
     "output_type": "execute_result"
    }
   ],
   "source": [
    "numpy.power(array, 2)"
   ]
  },
  {
   "cell_type": "code",
   "execution_count": 115,
   "id": "5fe853a8",
   "metadata": {},
   "outputs": [
    {
     "data": {
      "text/plain": [
       "array([1, 0, 1, 0, 1])"
      ]
     },
     "execution_count": 115,
     "metadata": {},
     "output_type": "execute_result"
    }
   ],
   "source": [
    "numpy.mod(array, 2)"
   ]
  },
  {
   "cell_type": "code",
   "execution_count": 117,
   "id": "9cc5796b",
   "metadata": {},
   "outputs": [
    {
     "data": {
      "text/plain": [
       "array([3])"
      ]
     },
     "execution_count": 117,
     "metadata": {},
     "output_type": "execute_result"
    }
   ],
   "source": [
    "numpy.absolute(numpy.array([-3]))"
   ]
  },
  {
   "cell_type": "code",
   "execution_count": 123,
   "id": "33d336e8",
   "metadata": {},
   "outputs": [
    {
     "data": {
      "text/plain": [
       "0.9589157234143065"
      ]
     },
     "execution_count": 123,
     "metadata": {},
     "output_type": "execute_result"
    }
   ],
   "source": [
    "numpy.sin(360)"
   ]
  },
  {
   "cell_type": "code",
   "execution_count": 127,
   "id": "95e6deed",
   "metadata": {},
   "outputs": [
    {
     "data": {
      "text/plain": [
       "array([0.       , 1.       , 1.5849625])"
      ]
     },
     "execution_count": 127,
     "metadata": {},
     "output_type": "execute_result"
    }
   ],
   "source": [
    "numpy.log2([1, 2, 3])"
   ]
  },
  {
   "cell_type": "markdown",
   "id": "6c8919fd",
   "metadata": {},
   "source": [
    "## NumPy ile İki Bilinmeyenli Denklem Çözümü\n",
    "\n",
    "- 5 * x0 + x1 = 12\n",
    "- x0 + 3 * x1 = 10"
   ]
  },
  {
   "cell_type": "code",
   "execution_count": 135,
   "id": "1086078a",
   "metadata": {},
   "outputs": [],
   "source": [
    "kat_sayi = numpy.array([[5, 1], [1, 3]])\n",
    "deger = numpy.array([12, 10])"
   ]
  },
  {
   "cell_type": "code",
   "execution_count": 138,
   "id": "fac5d998",
   "metadata": {},
   "outputs": [
    {
     "data": {
      "text/plain": [
       "array([1.85714286, 2.71428571])"
      ]
     },
     "execution_count": 138,
     "metadata": {},
     "output_type": "execute_result"
    }
   ],
   "source": [
    "numpy.linalg.solve(kat_sayi, deger)"
   ]
  },
  {
   "cell_type": "code",
   "execution_count": 132,
   "id": "96ecce2c",
   "metadata": {},
   "outputs": [],
   "source": [
    "#genel dokümantasyon"
   ]
  },
  {
   "cell_type": "code",
   "execution_count": 133,
   "id": "80b1ebec",
   "metadata": {},
   "outputs": [],
   "source": [
    "?numpy"
   ]
  }
 ],
 "metadata": {
  "kernelspec": {
   "display_name": "Python 3 (ipykernel)",
   "language": "python",
   "name": "python3"
  },
  "language_info": {
   "codemirror_mode": {
    "name": "ipython",
    "version": 3
   },
   "file_extension": ".py",
   "mimetype": "text/x-python",
   "name": "python",
   "nbconvert_exporter": "python",
   "pygments_lexer": "ipython3",
   "version": "3.9.12"
  }
 },
 "nbformat": 4,
 "nbformat_minor": 5
}
