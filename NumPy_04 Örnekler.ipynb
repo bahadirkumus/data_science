{
 "cells": [
  {
   "cell_type": "markdown",
   "id": "05209dee",
   "metadata": {},
   "source": [
    "## Örnekler"
   ]
  },
  {
   "cell_type": "code",
   "execution_count": 1,
   "id": "3faed6be",
   "metadata": {},
   "outputs": [],
   "source": [
    "#1: Dizi oluşturma ve işleme"
   ]
  },
  {
   "cell_type": "code",
   "execution_count": 2,
   "id": "b2cf1f2a",
   "metadata": {},
   "outputs": [
    {
     "name": "stdout",
     "output_type": "stream",
     "text": [
      "[ 1  4  9 16 25]\n"
     ]
    }
   ],
   "source": [
    "import numpy as np\n",
    "\n",
    "arr = np.array([1, 2, 3, 4, 5])\n",
    "squared = np.square(arr)\n",
    "\n",
    "print(squared)"
   ]
  },
  {
   "cell_type": "code",
   "execution_count": 3,
   "id": "da1b009a",
   "metadata": {},
   "outputs": [],
   "source": [
    "#2: Matris çarpma"
   ]
  },
  {
   "cell_type": "code",
   "execution_count": 4,
   "id": "caf5927d",
   "metadata": {},
   "outputs": [
    {
     "name": "stdout",
     "output_type": "stream",
     "text": [
      "[[19 22]\n",
      " [43 50]]\n"
     ]
    }
   ],
   "source": [
    "import numpy as np\n",
    "\n",
    "a = np.array([[1, 2], [3, 4]])\n",
    "b = np.array([[5, 6], [7, 8]])\n",
    "\n",
    "result = np.dot(a,b)\n",
    "\n",
    "print(result)"
   ]
  },
  {
   "cell_type": "code",
   "execution_count": 5,
   "id": "e83737da",
   "metadata": {},
   "outputs": [],
   "source": [
    "#3 İstatiksel hesaplamalar"
   ]
  },
  {
   "cell_type": "code",
   "execution_count": 6,
   "id": "8cf4f1e9",
   "metadata": {},
   "outputs": [
    {
     "name": "stdout",
     "output_type": "stream",
     "text": [
      "3.0\n"
     ]
    }
   ],
   "source": [
    "import numpy as np\n",
    "\n",
    "arr = np.array([1, 2, 3, 4, 5])\n",
    "mean = np.mean(arr)\n",
    "\n",
    "print(mean)"
   ]
  },
  {
   "cell_type": "code",
   "execution_count": 7,
   "id": "2bb78b6b",
   "metadata": {},
   "outputs": [],
   "source": [
    "#4 Dizi işlemleri"
   ]
  },
  {
   "cell_type": "code",
   "execution_count": 8,
   "id": "17583f57",
   "metadata": {},
   "outputs": [
    {
     "name": "stdout",
     "output_type": "stream",
     "text": [
      "[5 7 9]\n"
     ]
    }
   ],
   "source": [
    "import numpy as np\n",
    "\n",
    "a = np.array([1, 2, 3])\n",
    "b = np.array([4, 5, 6])\n",
    "\n",
    "c = a + b\n",
    "\n",
    "print(c)"
   ]
  },
  {
   "cell_type": "code",
   "execution_count": 9,
   "id": "4fd4ae0f",
   "metadata": {},
   "outputs": [],
   "source": [
    "#5 Görüntü işleme"
   ]
  },
  {
   "cell_type": "code",
   "execution_count": 10,
   "id": "9b46816c",
   "metadata": {},
   "outputs": [],
   "source": [
    "import numpy as np\n",
    "from PIL import Image, ImageFilter\n",
    "\n",
    "img = Image.open('image.jpeg')\n",
    "img_arr = np.array(img)\n",
    "\n",
    "img_gaussian = Image.fromarray(img_arr)\n",
    "img_gaussian = img_gaussian.filter(ImageFilter.GaussianBlur(radius=5))\n",
    "img_gaussian_arr = np.array(img_gaussian)\n",
    "\n",
    "img_arr[100:150, 200:250, 0] = 255  # Kırmızı\n",
    "img_arr[100:150, 200:250, 1] = 0    # Yeşil\n",
    "img_arr[100:150, 200:250, 2] = 0    # Mavi\n",
    "\n",
    "img_result = Image.fromarray(img_arr)\n",
    "img_result.save('result.jpg')\n",
    "\n",
    "img_gaussian_result = Image.fromarray(img_gaussian_arr)\n",
    "img_gaussian_result.save('result_gaussian.jpg')"
   ]
  }
 ],
 "metadata": {
  "kernelspec": {
   "display_name": "Python 3 (ipykernel)",
   "language": "python",
   "name": "python3"
  },
  "language_info": {
   "codemirror_mode": {
    "name": "ipython",
    "version": 3
   },
   "file_extension": ".py",
   "mimetype": "text/x-python",
   "name": "python",
   "nbconvert_exporter": "python",
   "pygments_lexer": "ipython3",
   "version": "3.9.12"
  }
 },
 "nbformat": 4,
 "nbformat_minor": 5
}
